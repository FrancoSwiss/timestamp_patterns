{
 "cells": [
  {
   "cell_type": "markdown",
   "metadata": {},
   "source": [
    "![title](http://oi65.tinypic.com/2nvf248.jpg)"
   ]
  },
  {
   "cell_type": "code",
   "execution_count": 1,
   "metadata": {},
   "outputs": [],
   "source": [
    "# Numerical Python and Pandas for data manipulation\n",
    "import numpy as np\n",
    "import pandas as pd"
   ]
  },
  {
   "cell_type": "code",
   "execution_count": 2,
   "metadata": {},
   "outputs": [],
   "source": [
    "# Necessary libraries from Sklearn\n",
    "from sklearn.model_selection import train_test_split\n",
    "from sklearn.model_selection import cross_val_score\n",
    "from sklearn.model_selection import KFold\n",
    "from sklearn.metrics import classification_report\n",
    "from sklearn.metrics import accuracy_score"
   ]
  },
  {
   "cell_type": "code",
   "execution_count": 3,
   "metadata": {},
   "outputs": [],
   "source": [
    "# Visualization\n",
    "from matplotlib import pyplot\n",
    "import matplotlib.pyplot as plt\n",
    "import seaborn as sns\n",
    "sns.set_style('whitegrid')\n",
    "%matplotlib inline\n",
    "from sklearn.externals.six import StringIO  \n",
    "from IPython.display import Image  \n",
    "from sklearn.tree import export_graphviz\n",
    "import pydotplus"
   ]
  },
  {
   "cell_type": "code",
   "execution_count": 4,
   "metadata": {},
   "outputs": [],
   "source": [
    "# Algorithms\n",
    "from sklearn.linear_model import LogisticRegression\n",
    "from sklearn.tree import DecisionTreeClassifier\n",
    "from xgboost import XGBClassifier\n",
    "import xgboost\n",
    "from xgboost import plot_importance"
   ]
  },
  {
   "cell_type": "code",
   "execution_count": 5,
   "metadata": {},
   "outputs": [],
   "source": [
    "# Ignore warnings\n",
    "import warnings\n",
    "warnings.filterwarnings(\"ignore\", category=FutureWarning)"
   ]
  },
  {
   "cell_type": "markdown",
   "metadata": {},
   "source": [
    "# Import data set from Kaggle Competition\n",
    "Fraud risk is everywhere, but for companies that advertise online, click fraud can happen at an overwhelming volume, resulting in misleading click data and wasted money. Ad channels can drive up costs by simply clicking on the ad at a large scale. With over 1 billion smart mobile devices in active use every month, China is the largest mobile market in the world and therefore suffers from huge volumes of fradulent traffic.\n",
    "\n",
    "The dataset contains approximately 200,000,000 clicks over 4 days!"
   ]
  },
  {
   "cell_type": "code",
   "execution_count": 6,
   "metadata": {},
   "outputs": [],
   "source": [
    "# Thanks to Bojan Tunguz on Kaggle for suggesting to skip the first 150 million rows.\n",
    "train = pd.read_csv(\"train.csv\", skiprows=150000000, nrows=50000000)"
   ]
  },
  {
   "cell_type": "code",
   "execution_count": 7,
   "metadata": {},
   "outputs": [],
   "source": [
    "train.columns =\n",
    "['ip', 'app', 'device', 'os', 'channel', 'click_time', 'attributed_time', 'is_attributed']"
   ]
  },
  {
   "cell_type": "code",
   "execution_count": 8,
   "metadata": {},
   "outputs": [
    {
     "data": {
      "text/html": [
       "<div>\n",
       "<style scoped>\n",
       "    .dataframe tbody tr th:only-of-type {\n",
       "        vertical-align: middle;\n",
       "    }\n",
       "\n",
       "    .dataframe tbody tr th {\n",
       "        vertical-align: top;\n",
       "    }\n",
       "\n",
       "    .dataframe thead th {\n",
       "        text-align: right;\n",
       "    }\n",
       "</style>\n",
       "<table border=\"1\" class=\"dataframe\">\n",
       "  <thead>\n",
       "    <tr style=\"text-align: right;\">\n",
       "      <th></th>\n",
       "      <th>ip</th>\n",
       "      <th>app</th>\n",
       "      <th>device</th>\n",
       "      <th>os</th>\n",
       "      <th>channel</th>\n",
       "      <th>click_time</th>\n",
       "      <th>attributed_time</th>\n",
       "      <th>is_attributed</th>\n",
       "    </tr>\n",
       "  </thead>\n",
       "  <tbody>\n",
       "    <tr>\n",
       "      <th>0</th>\n",
       "      <td>111186</td>\n",
       "      <td>12</td>\n",
       "      <td>1</td>\n",
       "      <td>22</td>\n",
       "      <td>178</td>\n",
       "      <td>2017-11-09 05:19:45</td>\n",
       "      <td>NaN</td>\n",
       "      <td>0</td>\n",
       "    </tr>\n",
       "    <tr>\n",
       "      <th>1</th>\n",
       "      <td>143839</td>\n",
       "      <td>12</td>\n",
       "      <td>1</td>\n",
       "      <td>17</td>\n",
       "      <td>178</td>\n",
       "      <td>2017-11-09 05:19:45</td>\n",
       "      <td>NaN</td>\n",
       "      <td>0</td>\n",
       "    </tr>\n",
       "    <tr>\n",
       "      <th>2</th>\n",
       "      <td>87609</td>\n",
       "      <td>18</td>\n",
       "      <td>1</td>\n",
       "      <td>19</td>\n",
       "      <td>107</td>\n",
       "      <td>2017-11-09 05:19:45</td>\n",
       "      <td>NaN</td>\n",
       "      <td>0</td>\n",
       "    </tr>\n",
       "    <tr>\n",
       "      <th>3</th>\n",
       "      <td>123924</td>\n",
       "      <td>2</td>\n",
       "      <td>1</td>\n",
       "      <td>25</td>\n",
       "      <td>469</td>\n",
       "      <td>2017-11-09 05:19:45</td>\n",
       "      <td>NaN</td>\n",
       "      <td>0</td>\n",
       "    </tr>\n",
       "    <tr>\n",
       "      <th>4</th>\n",
       "      <td>105861</td>\n",
       "      <td>29</td>\n",
       "      <td>1</td>\n",
       "      <td>19</td>\n",
       "      <td>343</td>\n",
       "      <td>2017-11-09 05:19:45</td>\n",
       "      <td>NaN</td>\n",
       "      <td>0</td>\n",
       "    </tr>\n",
       "  </tbody>\n",
       "</table>\n",
       "</div>"
      ],
      "text/plain": [
       "       ip  app  device  os  channel           click_time attributed_time  \\\n",
       "0  111186   12       1  22      178  2017-11-09 05:19:45             NaN   \n",
       "1  143839   12       1  17      178  2017-11-09 05:19:45             NaN   \n",
       "2   87609   18       1  19      107  2017-11-09 05:19:45             NaN   \n",
       "3  123924    2       1  25      469  2017-11-09 05:19:45             NaN   \n",
       "4  105861   29       1  19      343  2017-11-09 05:19:45             NaN   \n",
       "\n",
       "   is_attributed  \n",
       "0              0  \n",
       "1              0  \n",
       "2              0  \n",
       "3              0  \n",
       "4              0  "
      ]
     },
     "execution_count": 8,
     "metadata": {},
     "output_type": "execute_result"
    }
   ],
   "source": [
    "train.head()"
   ]
  },
  {
   "cell_type": "markdown",
   "metadata": {},
   "source": [
    "# Exploring Fraudulent Cases\n",
    "The basic goal is to see a few rows where fraud (is_attributed = 1) happened. \n",
    "\n",
    "Something important stands out: transactions happen 24/7. It's possible, that we need to feature engineer the timestamp with an advanced technique called Sin / Cosine. The reason for this is that the traditional approach of breaking up date data into multiple features might not be sufficient as e.g. 5 minutes before midnight and 5 minutes after midnight are pretty close. By using the traditional Panda date data handling, we would miss this."
   ]
  },
  {
   "cell_type": "code",
   "execution_count": 9,
   "metadata": {},
   "outputs": [
    {
     "data": {
      "text/html": [
       "<div>\n",
       "<style scoped>\n",
       "    .dataframe tbody tr th:only-of-type {\n",
       "        vertical-align: middle;\n",
       "    }\n",
       "\n",
       "    .dataframe tbody tr th {\n",
       "        vertical-align: top;\n",
       "    }\n",
       "\n",
       "    .dataframe thead th {\n",
       "        text-align: right;\n",
       "    }\n",
       "</style>\n",
       "<table border=\"1\" class=\"dataframe\">\n",
       "  <thead>\n",
       "    <tr style=\"text-align: right;\">\n",
       "      <th></th>\n",
       "      <th>ip</th>\n",
       "      <th>app</th>\n",
       "      <th>device</th>\n",
       "      <th>os</th>\n",
       "      <th>channel</th>\n",
       "      <th>click_time</th>\n",
       "      <th>attributed_time</th>\n",
       "      <th>is_attributed</th>\n",
       "    </tr>\n",
       "  </thead>\n",
       "  <tbody>\n",
       "    <tr>\n",
       "      <th>412</th>\n",
       "      <td>322273</td>\n",
       "      <td>29</td>\n",
       "      <td>1</td>\n",
       "      <td>14</td>\n",
       "      <td>213</td>\n",
       "      <td>2017-11-09 05:19:45</td>\n",
       "      <td>2017-11-09 05:21:39</td>\n",
       "      <td>1</td>\n",
       "    </tr>\n",
       "    <tr>\n",
       "      <th>627</th>\n",
       "      <td>324343</td>\n",
       "      <td>45</td>\n",
       "      <td>1</td>\n",
       "      <td>61</td>\n",
       "      <td>419</td>\n",
       "      <td>2017-11-09 05:19:45</td>\n",
       "      <td>2017-11-09 05:19:53</td>\n",
       "      <td>1</td>\n",
       "    </tr>\n",
       "    <tr>\n",
       "      <th>1212</th>\n",
       "      <td>356183</td>\n",
       "      <td>19</td>\n",
       "      <td>0</td>\n",
       "      <td>24</td>\n",
       "      <td>213</td>\n",
       "      <td>2017-11-09 05:19:46</td>\n",
       "      <td>2017-11-09 05:24:41</td>\n",
       "      <td>1</td>\n",
       "    </tr>\n",
       "    <tr>\n",
       "      <th>1329</th>\n",
       "      <td>47595</td>\n",
       "      <td>9</td>\n",
       "      <td>1</td>\n",
       "      <td>15</td>\n",
       "      <td>334</td>\n",
       "      <td>2017-11-09 05:19:46</td>\n",
       "      <td>2017-11-09 07:12:10</td>\n",
       "      <td>1</td>\n",
       "    </tr>\n",
       "    <tr>\n",
       "      <th>1344</th>\n",
       "      <td>77041</td>\n",
       "      <td>10</td>\n",
       "      <td>1</td>\n",
       "      <td>13</td>\n",
       "      <td>317</td>\n",
       "      <td>2017-11-09 05:19:46</td>\n",
       "      <td>2017-11-09 09:20:20</td>\n",
       "      <td>1</td>\n",
       "    </tr>\n",
       "  </tbody>\n",
       "</table>\n",
       "</div>"
      ],
      "text/plain": [
       "          ip  app  device  os  channel           click_time  \\\n",
       "412   322273   29       1  14      213  2017-11-09 05:19:45   \n",
       "627   324343   45       1  61      419  2017-11-09 05:19:45   \n",
       "1212  356183   19       0  24      213  2017-11-09 05:19:46   \n",
       "1329   47595    9       1  15      334  2017-11-09 05:19:46   \n",
       "1344   77041   10       1  13      317  2017-11-09 05:19:46   \n",
       "\n",
       "          attributed_time  is_attributed  \n",
       "412   2017-11-09 05:21:39              1  \n",
       "627   2017-11-09 05:19:53              1  \n",
       "1212  2017-11-09 05:24:41              1  \n",
       "1329  2017-11-09 07:12:10              1  \n",
       "1344  2017-11-09 09:20:20              1  "
      ]
     },
     "execution_count": 9,
     "metadata": {},
     "output_type": "execute_result"
    }
   ],
   "source": [
    "# Show the top rows where column 'is_attributed' equals 1\n",
    "train[train['is_attributed'] == 1].head()"
   ]
  },
  {
   "cell_type": "code",
   "execution_count": 10,
   "metadata": {},
   "outputs": [
    {
     "data": {
      "text/plain": [
       "(34903890, 8)"
      ]
     },
     "execution_count": 10,
     "metadata": {},
     "output_type": "execute_result"
    }
   ],
   "source": [
    "train.shape"
   ]
  },
  {
   "cell_type": "markdown",
   "metadata": {},
   "source": [
    "# Class Distribution"
   ]
  },
  {
   "cell_type": "code",
   "execution_count": 11,
   "metadata": {},
   "outputs": [
    {
     "data": {
      "text/plain": [
       "is_attributed\n",
       "0    34815719\n",
       "1       88171\n",
       "dtype: int64"
      ]
     },
     "execution_count": 11,
     "metadata": {},
     "output_type": "execute_result"
    }
   ],
   "source": [
    "# How is the target distributed? \n",
    "target_counts = train.groupby('is_attributed').size()\n",
    "target_counts"
   ]
  },
  {
   "cell_type": "markdown",
   "metadata": {},
   "source": [
    "# Breaking Up Date Data into Multiple Features\n",
    "The goal is to break up the timestamp into seperate columns of year, month, day, hour and minute."
   ]
  },
  {
   "cell_type": "code",
   "execution_count": 67,
   "metadata": {},
   "outputs": [],
   "source": [
    "df = pd.DataFrame(data=train, columns=['click_time'])"
   ]
  },
  {
   "cell_type": "code",
   "execution_count": 68,
   "metadata": {},
   "outputs": [],
   "source": [
    "df.click_time = pd.to_datetime(df.click_time)"
   ]
  },
  {
   "cell_type": "code",
   "execution_count": 69,
   "metadata": {},
   "outputs": [],
   "source": [
    "df['new_formatted_date'] = df.click_time.dt.strftime('%d/%m/%y %H:%M')"
   ]
  },
  {
   "cell_type": "code",
   "execution_count": 70,
   "metadata": {},
   "outputs": [
    {
     "data": {
      "text/plain": [
       "0    09/11/17 05:19\n",
       "1    09/11/17 05:19\n",
       "2    09/11/17 05:19\n",
       "Name: new_formatted_date, dtype: object"
      ]
     },
     "execution_count": 70,
     "metadata": {},
     "output_type": "execute_result"
    }
   ],
   "source": [
    "df.new_formatted_date.head(3)"
   ]
  },
  {
   "cell_type": "code",
   "execution_count": 71,
   "metadata": {},
   "outputs": [
    {
     "data": {
      "text/html": [
       "<div>\n",
       "<style scoped>\n",
       "    .dataframe tbody tr th:only-of-type {\n",
       "        vertical-align: middle;\n",
       "    }\n",
       "\n",
       "    .dataframe tbody tr th {\n",
       "        vertical-align: top;\n",
       "    }\n",
       "\n",
       "    .dataframe thead th {\n",
       "        text-align: right;\n",
       "    }\n",
       "</style>\n",
       "<table border=\"1\" class=\"dataframe\">\n",
       "  <thead>\n",
       "    <tr style=\"text-align: right;\">\n",
       "      <th></th>\n",
       "      <th>click_time</th>\n",
       "      <th>new_formatted_date</th>\n",
       "      <th>month</th>\n",
       "      <th>day</th>\n",
       "      <th>year</th>\n",
       "      <th>hour</th>\n",
       "      <th>minute</th>\n",
       "    </tr>\n",
       "  </thead>\n",
       "  <tbody>\n",
       "    <tr>\n",
       "      <th>0</th>\n",
       "      <td>2017-11-09 05:19:45</td>\n",
       "      <td>09/11/17 05:19</td>\n",
       "      <td>11</td>\n",
       "      <td>9</td>\n",
       "      <td>2017</td>\n",
       "      <td>5</td>\n",
       "      <td>19</td>\n",
       "    </tr>\n",
       "    <tr>\n",
       "      <th>1</th>\n",
       "      <td>2017-11-09 05:19:45</td>\n",
       "      <td>09/11/17 05:19</td>\n",
       "      <td>11</td>\n",
       "      <td>9</td>\n",
       "      <td>2017</td>\n",
       "      <td>5</td>\n",
       "      <td>19</td>\n",
       "    </tr>\n",
       "    <tr>\n",
       "      <th>2</th>\n",
       "      <td>2017-11-09 05:19:45</td>\n",
       "      <td>09/11/17 05:19</td>\n",
       "      <td>11</td>\n",
       "      <td>9</td>\n",
       "      <td>2017</td>\n",
       "      <td>5</td>\n",
       "      <td>19</td>\n",
       "    </tr>\n",
       "  </tbody>\n",
       "</table>\n",
       "</div>"
      ],
      "text/plain": [
       "           click_time new_formatted_date  month  day  year  hour  minute\n",
       "0 2017-11-09 05:19:45     09/11/17 05:19     11    9  2017     5      19\n",
       "1 2017-11-09 05:19:45     09/11/17 05:19     11    9  2017     5      19\n",
       "2 2017-11-09 05:19:45     09/11/17 05:19     11    9  2017     5      19"
      ]
     },
     "execution_count": 71,
     "metadata": {},
     "output_type": "execute_result"
    }
   ],
   "source": [
    "# pandas.Series.dt\n",
    "df['month'] = df.click_time.dt.month\n",
    "df['day'] = df.click_time.dt.day\n",
    "df['year'] = df.click_time.dt.year\n",
    "df['hour'] = df.click_time.dt.hour\n",
    "df['minute'] = df.click_time.dt.minute\n",
    "df.head(3)"
   ]
  },
  {
   "cell_type": "code",
   "execution_count": 72,
   "metadata": {},
   "outputs": [
    {
     "name": "stdout",
     "output_type": "stream",
     "text": [
      "Unique values of month: [11]\n",
      "Unique values of day: [9]\n",
      "Unique values of year: [2017]\n",
      "Unique values of hour: [ 5  6  7  8  9 10 11 12 13 14 15 16]\n",
      "Unique values of minute: [19 20 21 22 23 24 25 26 27 28 29 30 31 32 33 34 35 36 37 38 39 40 41 42\n",
      " 43 44 45 46 47 48 49 50 51 52 53 54 55 56 57 58 59  0  1  2  3  4  5  6\n",
      "  7  8  9 10 11 12 13 14 15 16 17 18]\n"
     ]
    }
   ],
   "source": [
    "print('Unique values of month:', df.month.unique())\n",
    "print('Unique values of day:', df.day.unique())\n",
    "print('Unique values of year:', df.year.unique())\n",
    "print('Unique values of hour:', df.hour.unique())\n",
    "print('Unique values of minute:', df.minute.unique())"
   ]
  },
  {
   "cell_type": "markdown",
   "metadata": {},
   "source": [
    "We only have a single month and year. Therefore, we only care about day/hour/minute as a feature."
   ]
  },
  {
   "cell_type": "markdown",
   "metadata": {},
   "source": [
    "# The Magic\n",
    "Now the magic happens. We map each cyclical variable onto a circle such that the lowest value for that variable appears right next to the largest value. We compute the x- and y- component of that point using sin and cos trigonometric functions. You remember your unit circle, right? Here's what it looks like for the \"hours\" variable. Zero (midnight) is on the right, and the hours increase counterclockwise around the circle. In this way, 23:59 is very close to 00:00, as it should be.\n",
    "\n",
    "Source: David Kaleko (http://blog.davidkaleko.com/feature-engineering-cyclical-features.html)"
   ]
  },
  {
   "cell_type": "markdown",
   "metadata": {},
   "source": [
    "![title](http://i65.tinypic.com/2akh56x.jpg)"
   ]
  },
  {
   "cell_type": "code",
   "execution_count": 73,
   "metadata": {},
   "outputs": [],
   "source": [
    "# Day\n",
    "df['day_sin'] = np.sin(df.day*(2.*np.pi/30))\n",
    "df['day_cos'] = np.cos(df.day*(2.*np.pi/30))"
   ]
  },
  {
   "cell_type": "code",
   "execution_count": 74,
   "metadata": {},
   "outputs": [],
   "source": [
    "# Hour\n",
    "df['hour_sin'] = np.sin(df.day*(2.*np.pi/24))\n",
    "df['hour_cos'] = np.cos(df.day*(2.*np.pi/24))"
   ]
  },
  {
   "cell_type": "code",
   "execution_count": 75,
   "metadata": {},
   "outputs": [],
   "source": [
    "# Minute\n",
    "df['minute_sin'] = np.sin(df.day*(2.*np.pi/60))\n",
    "df['minute_cos'] = np.cos(df.day*(2.*np.pi/60))"
   ]
  },
  {
   "cell_type": "markdown",
   "metadata": {},
   "source": [
    "# Concatenate Data Frames"
   ]
  },
  {
   "cell_type": "code",
   "execution_count": 76,
   "metadata": {},
   "outputs": [],
   "source": [
    "# Concatenate\n",
    "concatenated = pd.concat([train, df], axis=1)"
   ]
  },
  {
   "cell_type": "markdown",
   "metadata": {},
   "source": [
    "# Define X and y"
   ]
  },
  {
   "cell_type": "code",
   "execution_count": 77,
   "metadata": {},
   "outputs": [],
   "source": [
    "# Define y = is_attributed\n",
    "y = concatenated['is_attributed']"
   ]
  },
  {
   "cell_type": "code",
   "execution_count": 78,
   "metadata": {},
   "outputs": [
    {
     "data": {
      "text/plain": [
       "0    0\n",
       "1    0\n",
       "2    0\n",
       "Name: is_attributed, dtype: int64"
      ]
     },
     "execution_count": 78,
     "metadata": {},
     "output_type": "execute_result"
    }
   ],
   "source": [
    "# Sanity check\n",
    "y.head(3)"
   ]
  },
  {
   "cell_type": "code",
   "execution_count": 79,
   "metadata": {},
   "outputs": [],
   "source": [
    "# Define X\n",
    "X = concatenated[['ip', 'app', 'device', 'os', 'channel', 'day_sin','day_cos', 'hour_sin', 'hour_cos',\n",
    "                  'minute_sin', 'minute_cos']]"
   ]
  },
  {
   "cell_type": "code",
   "execution_count": 80,
   "metadata": {},
   "outputs": [
    {
     "data": {
      "text/html": [
       "<div>\n",
       "<style scoped>\n",
       "    .dataframe tbody tr th:only-of-type {\n",
       "        vertical-align: middle;\n",
       "    }\n",
       "\n",
       "    .dataframe tbody tr th {\n",
       "        vertical-align: top;\n",
       "    }\n",
       "\n",
       "    .dataframe thead th {\n",
       "        text-align: right;\n",
       "    }\n",
       "</style>\n",
       "<table border=\"1\" class=\"dataframe\">\n",
       "  <thead>\n",
       "    <tr style=\"text-align: right;\">\n",
       "      <th></th>\n",
       "      <th>ip</th>\n",
       "      <th>app</th>\n",
       "      <th>device</th>\n",
       "      <th>os</th>\n",
       "      <th>channel</th>\n",
       "      <th>day_sin</th>\n",
       "      <th>day_cos</th>\n",
       "      <th>hour_sin</th>\n",
       "      <th>hour_cos</th>\n",
       "      <th>minute_sin</th>\n",
       "      <th>minute_cos</th>\n",
       "    </tr>\n",
       "  </thead>\n",
       "  <tbody>\n",
       "    <tr>\n",
       "      <th>0</th>\n",
       "      <td>111186</td>\n",
       "      <td>12</td>\n",
       "      <td>1</td>\n",
       "      <td>22</td>\n",
       "      <td>178</td>\n",
       "      <td>0.951057</td>\n",
       "      <td>-0.309017</td>\n",
       "      <td>0.707107</td>\n",
       "      <td>-0.707107</td>\n",
       "      <td>0.809017</td>\n",
       "      <td>0.587785</td>\n",
       "    </tr>\n",
       "    <tr>\n",
       "      <th>1</th>\n",
       "      <td>143839</td>\n",
       "      <td>12</td>\n",
       "      <td>1</td>\n",
       "      <td>17</td>\n",
       "      <td>178</td>\n",
       "      <td>0.951057</td>\n",
       "      <td>-0.309017</td>\n",
       "      <td>0.707107</td>\n",
       "      <td>-0.707107</td>\n",
       "      <td>0.809017</td>\n",
       "      <td>0.587785</td>\n",
       "    </tr>\n",
       "    <tr>\n",
       "      <th>2</th>\n",
       "      <td>87609</td>\n",
       "      <td>18</td>\n",
       "      <td>1</td>\n",
       "      <td>19</td>\n",
       "      <td>107</td>\n",
       "      <td>0.951057</td>\n",
       "      <td>-0.309017</td>\n",
       "      <td>0.707107</td>\n",
       "      <td>-0.707107</td>\n",
       "      <td>0.809017</td>\n",
       "      <td>0.587785</td>\n",
       "    </tr>\n",
       "  </tbody>\n",
       "</table>\n",
       "</div>"
      ],
      "text/plain": [
       "       ip  app  device  os  channel   day_sin   day_cos  hour_sin  hour_cos  \\\n",
       "0  111186   12       1  22      178  0.951057 -0.309017  0.707107 -0.707107   \n",
       "1  143839   12       1  17      178  0.951057 -0.309017  0.707107 -0.707107   \n",
       "2   87609   18       1  19      107  0.951057 -0.309017  0.707107 -0.707107   \n",
       "\n",
       "   minute_sin  minute_cos  \n",
       "0    0.809017    0.587785  \n",
       "1    0.809017    0.587785  \n",
       "2    0.809017    0.587785  "
      ]
     },
     "execution_count": 80,
     "metadata": {},
     "output_type": "execute_result"
    }
   ],
   "source": [
    "# Sanity check\n",
    "X.head(3)"
   ]
  },
  {
   "cell_type": "markdown",
   "metadata": {},
   "source": [
    "# Split Data into Training and Test Sets\n"
   ]
  },
  {
   "cell_type": "code",
   "execution_count": 81,
   "metadata": {},
   "outputs": [],
   "source": [
    "validation_size = 0.10 # 10% is enough for this large dataset\n",
    "seed = 99\n",
    "X_train, X_test, y_train, y_test, = train_test_split(X, y, test_size = validation_size, \n",
    "                                                     random_state=seed, shuffle=True )"
   ]
  },
  {
   "cell_type": "code",
   "execution_count": 82,
   "metadata": {},
   "outputs": [],
   "source": [
    "num_folds = 5\n",
    "kfold = KFold(n_splits=5, random_state=seed)"
   ]
  },
  {
   "cell_type": "markdown",
   "metadata": {},
   "source": [
    "# Machine Learning Algorithm"
   ]
  },
  {
   "cell_type": "code",
   "execution_count": 93,
   "metadata": {},
   "outputs": [],
   "source": [
    "# fit the model to the training data\n",
    "model = XGBClassifier(base_score=0.5,\n",
    "                      booster='gbtree',\n",
    "                      colsample_bylevel=1,\n",
    "                      colsample_bytree=1, \n",
    "                      gamma=0, \n",
    "                      learning_rate=0.1, \n",
    "                      max_delta_step=0, \n",
    "                      max_depth=4, \n",
    "                      min_child_weight=100, \n",
    "                      missing=None, \n",
    "                      n_estimators=40,\n",
    "                      n_jobs=1, \n",
    "                      nthread=None, \n",
    "                      objective='binary:logistic', \n",
    "                      random_state=99,\n",
    "                      reg_alpha=0, \n",
    "                      reg_lambda=1, \n",
    "                      scale_pos_weight=150, \n",
    "                      seed=None,\n",
    "                      silent=True, \n",
    "                      subsample=1)"
   ]
  },
  {
   "cell_type": "code",
   "execution_count": 94,
   "metadata": {},
   "outputs": [
    {
     "name": "stdout",
     "output_type": "stream",
     "text": [
      "[14:51:40] Tree method is automatically selected to be 'approx' for faster speed. to use old behavior(exact greedy algorithm on single machine), set tree_method to 'exact'\n"
     ]
    },
    {
     "data": {
      "text/plain": [
       "XGBClassifier(base_score=0.5, booster='gbtree', colsample_bylevel=1,\n",
       "       colsample_bytree=1, gamma=0, learning_rate=0.1, max_delta_step=0,\n",
       "       max_depth=4, min_child_weight=100, missing=None, n_estimators=40,\n",
       "       n_jobs=1, nthread=None, objective='binary:logistic',\n",
       "       random_state=99, reg_alpha=0, reg_lambda=1, scale_pos_weight=150,\n",
       "       seed=None, silent=True, subsample=1)"
      ]
     },
     "execution_count": 94,
     "metadata": {},
     "output_type": "execute_result"
    }
   ],
   "source": [
    "model.fit(X_train, y_train)"
   ]
  },
  {
   "cell_type": "code",
   "execution_count": 95,
   "metadata": {},
   "outputs": [
    {
     "name": "stdout",
     "output_type": "stream",
     "text": [
      "Accuracy: 98.137% (0.019%)\n"
     ]
    }
   ],
   "source": [
    "num_folds = 5\n",
    "seed = 99\n",
    "\n",
    "kfold = KFold(n_splits=num_folds, random_state=seed)\n",
    "results = cross_val_score(model, X_test, y_test, cv=kfold)\n",
    "print(\"Accuracy: %.3f%% (%.3f%%)\" % (results.mean()*100.0, results.std()*100.0))"
   ]
  },
  {
   "cell_type": "code",
   "execution_count": 96,
   "metadata": {},
   "outputs": [],
   "source": [
    "# make predictions for test data\n",
    "y_pred = model.predict(X_test)\n",
    "predictions = [round(value) for value in y_pred]"
   ]
  },
  {
   "cell_type": "code",
   "execution_count": 97,
   "metadata": {},
   "outputs": [
    {
     "name": "stdout",
     "output_type": "stream",
     "text": [
      "              precision    recall  f1-score   support\n",
      "\n",
      "           0       1.00      0.98      0.99   3481675\n",
      "           1       0.10      0.83      0.18      8714\n",
      "\n",
      "   micro avg       0.98      0.98      0.98   3490389\n",
      "   macro avg       0.55      0.91      0.59   3490389\n",
      "weighted avg       1.00      0.98      0.99   3490389\n",
      "\n"
     ]
    }
   ],
   "source": [
    "from sklearn.metrics import classification_report\n",
    "predicted = model.predict(X_test)\n",
    "report = classification_report(y_test, predicted)\n",
    "print(report)"
   ]
  },
  {
   "cell_type": "code",
   "execution_count": 98,
   "metadata": {},
   "outputs": [
    {
     "name": "stdout",
     "output_type": "stream",
     "text": [
      "[15:11:34] Tree method is automatically selected to be 'approx' for faster speed. to use old behavior(exact greedy algorithm on single machine), set tree_method to 'exact'\n",
      "[15:24:21] Tree method is automatically selected to be 'approx' for faster speed. to use old behavior(exact greedy algorithm on single machine), set tree_method to 'exact'\n",
      "[15:37:12] Tree method is automatically selected to be 'approx' for faster speed. to use old behavior(exact greedy algorithm on single machine), set tree_method to 'exact'\n",
      "[15:49:50] Tree method is automatically selected to be 'approx' for faster speed. to use old behavior(exact greedy algorithm on single machine), set tree_method to 'exact'\n",
      "[16:02:25] Tree method is automatically selected to be 'approx' for faster speed. to use old behavior(exact greedy algorithm on single machine), set tree_method to 'exact'\n",
      "AUC: 0.957 (0.007)\n"
     ]
    }
   ],
   "source": [
    "scoring = 'roc_auc'\n",
    "results = cross_val_score(model, X, y, cv=kfold, scoring=scoring)\n",
    "print(\"AUC: %.3f (%.3f)\" % (results.mean(), results.std()))"
   ]
  },
  {
   "cell_type": "code",
   "execution_count": null,
   "metadata": {},
   "outputs": [],
   "source": []
  },
  {
   "cell_type": "code",
   "execution_count": null,
   "metadata": {},
   "outputs": [],
   "source": []
  }
 ],
 "metadata": {
  "kernelspec": {
   "display_name": "Python (py36)",
   "language": "python",
   "name": "py36"
  },
  "language_info": {
   "codemirror_mode": {
    "name": "ipython",
    "version": 3
   },
   "file_extension": ".py",
   "mimetype": "text/x-python",
   "name": "python",
   "nbconvert_exporter": "python",
   "pygments_lexer": "ipython3",
   "version": "3.6.8"
  }
 },
 "nbformat": 4,
 "nbformat_minor": 2
}
